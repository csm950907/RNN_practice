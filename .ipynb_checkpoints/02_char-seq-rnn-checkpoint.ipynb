{
 "cells": [
  {
   "cell_type": "code",
   "execution_count": 1,
   "metadata": {
    "collapsed": true
   },
   "outputs": [],
   "source": [
    "import tensorflow as tf\n",
    "import numpy as np\n",
    "tf.set_random_seed(777)  # reproducibility\n"
   ]
  },
  {
   "cell_type": "code",
   "execution_count": 2,
   "metadata": {},
   "outputs": [
    {
     "name": "stdout",
     "output_type": "stream",
     "text": [
      "idxToChar:  ['a', 'o', 'f', ' ', 'w', 'i', 'n', 't', 'u', 'y']\n",
      "charToIdx:  {'a': 0, 'o': 1, 'f': 2, ' ': 3, 'w': 4, 'i': 5, 'n': 6, 't': 7, 'u': 8, 'y': 9}\n"
     ]
    }
   ],
   "source": [
    "sample = \" if you want you\"\n",
    "idx2char = list(set(sample))  # index -> char\n",
    "char2idx = {c: i for i, c in enumerate(idx2char)}  # char -> idex\n",
    "\n",
    "print(\"idxToChar: \", idx2char)\n",
    "print(\"charToIdx: \", char2idx)"
   ]
  },
  {
   "cell_type": "code",
   "execution_count": 3,
   "metadata": {
    "collapsed": true
   },
   "outputs": [],
   "source": [
    "# hyper parameters\n",
    "dic_size = len(char2idx)  # RNN input size (one hot size)\n",
    "hidden_size = len(char2idx)  # RNN output size\n",
    "num_classes = len(char2idx)  # final output size (RNN or softmax, etc.)\n",
    "batch_size = 1  # one sample data, one batch\n",
    "sequence_length = len(sample) - 1  # number of lstm rollings (unit #)\n",
    "learning_rate = 0.1"
   ]
  },
  {
   "cell_type": "code",
   "execution_count": 7,
   "metadata": {},
   "outputs": [
    {
     "name": "stdout",
     "output_type": "stream",
     "text": [
      "X_data:  [[3, 5, 2, 3, 9, 1, 8, 3, 4, 0, 6, 7, 3, 9, 1]]\n",
      "Y_data:  [[5, 2, 3, 9, 1, 8, 3, 4, 0, 6, 7, 3, 9, 1, 8]]\n",
      "X_shape:  (1, 15)\n",
      "Y_shape:  (1, 15)\n"
     ]
    }
   ],
   "source": [
    "sample_idx = [char2idx[c] for c in sample]  # char to index\n",
    "x_data = [sample_idx[:-1]]  # X data sample (0 ~ n-1) hello: hell\n",
    "y_data = [sample_idx[1:]]   # Y label sample (1 ~ n) hello: ello\n",
    "print(\"X_data: \", x_data)\n",
    "print(\"Y_data: \", y_data)\n",
    "print(\"X_shape: \", np.shape(x_data))\n",
    "print(\"Y_shape: \", np.shape(y_data))"
   ]
  },
  {
   "cell_type": "code",
   "execution_count": 8,
   "metadata": {},
   "outputs": [
    {
     "name": "stdout",
     "output_type": "stream",
     "text": [
      "X:  Tensor(\"Placeholder_2:0\", shape=(?, 15), dtype=int32)\n",
      "Y:  Tensor(\"Placeholder_3:0\", shape=(?, 15), dtype=int32)\n"
     ]
    }
   ],
   "source": [
    "X = tf.placeholder(tf.int32, [None, sequence_length])  # X data\n",
    "Y = tf.placeholder(tf.int32, [None, sequence_length])  # Y label\n",
    "\n",
    "print(\"X: \", X)\n",
    "print(\"Y: \", Y)"
   ]
  },
  {
   "cell_type": "code",
   "execution_count": 9,
   "metadata": {
    "collapsed": true
   },
   "outputs": [],
   "source": [
    "x_one_hot = tf.one_hot(X, num_classes)  # one hot: 1 -> 0 1 0 0 0 0 0 0 0 0\n",
    "cell = tf.contrib.rnn.BasicLSTMCell(\n",
    "    num_units=hidden_size, state_is_tuple=True)\n",
    "initial_state = cell.zero_state(batch_size, tf.float32)\n",
    "outputs, _states = tf.nn.dynamic_rnn(\n",
    "    cell, x_one_hot, initial_state=initial_state, dtype=tf.float32)\n",
    "\n",
    "# FC layer\n",
    "X_for_fc = tf.reshape(outputs, [-1, hidden_size])\n",
    "outputs = tf.contrib.layers.fully_connected(X_for_fc, num_classes, activation_fn=None)\n",
    "\n",
    "# reshape out for sequence_loss\n",
    "outputs = tf.reshape(outputs, [batch_size, sequence_length, num_classes])"
   ]
  },
  {
   "cell_type": "code",
   "execution_count": 10,
   "metadata": {
    "collapsed": true
   },
   "outputs": [],
   "source": [
    "weights = tf.ones([batch_size, sequence_length])\n",
    "sequence_loss = tf.contrib.seq2seq.sequence_loss(\n",
    "    logits=outputs, targets=Y, weights=weights)\n",
    "loss = tf.reduce_mean(sequence_loss)\n",
    "train = tf.train.AdamOptimizer(learning_rate=learning_rate).minimize(loss)\n",
    "\n",
    "prediction = tf.argmax(outputs, axis=2)"
   ]
  },
  {
   "cell_type": "code",
   "execution_count": 11,
   "metadata": {},
   "outputs": [
    {
     "name": "stdout",
     "output_type": "stream",
     "text": [
      "0 loss: 2.30917 Prediction:                \n",
      "1 loss: 2.15889 Prediction:     uu u    uuu\n",
      "2 loss: 2.04102 Prediction: y         y yo \n",
      "3 loss: 1.87853 Prediction: y    u    y you\n",
      "4 loss: 1.66937 Prediction: y   uu   tt you\n",
      "5 loss: 1.42024 Prediction: y  yuu   nt you\n",
      "6 loss: 1.17605 Prediction: yy you uant you\n",
      "7 loss: 0.951468 Prediction: yf you aatt you\n",
      "8 loss: 0.736741 Prediction: yf you aant you\n",
      "9 loss: 0.569355 Prediction: yf you want you\n",
      "10 loss: 0.434493 Prediction: ff you want you\n",
      "11 loss: 0.334538 Prediction: ff you want you\n",
      "12 loss: 0.252639 Prediction: ff you want you\n",
      "13 loss: 0.1903 Prediction: if you want you\n",
      "14 loss: 0.146655 Prediction: if you want you\n",
      "15 loss: 0.113104 Prediction: if you want you\n",
      "16 loss: 0.0831911 Prediction: if you want you\n",
      "17 loss: 0.0611577 Prediction: if you want you\n",
      "18 loss: 0.0467486 Prediction: if you want you\n",
      "19 loss: 0.0359255 Prediction: if you want you\n",
      "20 loss: 0.0267404 Prediction: if you want you\n",
      "21 loss: 0.0193222 Prediction: if you want you\n",
      "22 loss: 0.013962 Prediction: if you want you\n",
      "23 loss: 0.0103723 Prediction: if you want you\n",
      "24 loss: 0.00800716 Prediction: if you want you\n",
      "25 loss: 0.00639376 Prediction: if you want you\n",
      "26 loss: 0.00522895 Prediction: if you want you\n",
      "27 loss: 0.00434784 Prediction: if you want you\n",
      "28 loss: 0.00366432 Prediction: if you want you\n",
      "29 loss: 0.00312814 Prediction: if you want you\n",
      "30 loss: 0.00270474 Prediction: if you want you\n",
      "31 loss: 0.00236779 Prediction: if you want you\n",
      "32 loss: 0.00209699 Prediction: if you want you\n",
      "33 loss: 0.00187686 Prediction: if you want you\n",
      "34 loss: 0.00169572 Prediction: if you want you\n",
      "35 loss: 0.00154482 Prediction: if you want you\n",
      "36 loss: 0.00141775 Prediction: if you want you\n",
      "37 loss: 0.00130968 Prediction: if you want you\n",
      "38 loss: 0.00121695 Prediction: if you want you\n",
      "39 loss: 0.00113674 Prediction: if you want you\n",
      "40 loss: 0.00106688 Prediction: if you want you\n",
      "41 loss: 0.00100572 Prediction: if you want you\n",
      "42 loss: 0.000951897 Prediction: if you want you\n",
      "43 loss: 0.000904387 Prediction: if you want you\n",
      "44 loss: 0.00086222 Prediction: if you want you\n",
      "45 loss: 0.000824653 Prediction: if you want you\n",
      "46 loss: 0.000791163 Prediction: if you want you\n",
      "47 loss: 0.000761068 Prediction: if you want you\n",
      "48 loss: 0.00073405 Prediction: if you want you\n",
      "49 loss: 0.00070969 Prediction: if you want you\n"
     ]
    }
   ],
   "source": [
    "with tf.Session() as sess:\n",
    "    sess.run(tf.global_variables_initializer())\n",
    "    for i in range(50):\n",
    "        l, _ = sess.run([loss, train], feed_dict={X: x_data, Y: y_data})\n",
    "        result = sess.run(prediction, feed_dict={X: x_data})\n",
    "\n",
    "        # print char using dic\n",
    "        result_str = [idx2char[c] for c in np.squeeze(result)]\n",
    "\n",
    "        print(i, \"loss:\", l, \"Prediction:\", ''.join(result_str))"
   ]
  },
  {
   "cell_type": "code",
   "execution_count": null,
   "metadata": {
    "collapsed": true
   },
   "outputs": [],
   "source": []
  }
 ],
 "metadata": {
  "kernelspec": {
   "display_name": "Python 3",
   "language": "python",
   "name": "python3"
  },
  "language_info": {
   "codemirror_mode": {
    "name": "ipython",
    "version": 3
   },
   "file_extension": ".py",
   "mimetype": "text/x-python",
   "name": "python",
   "nbconvert_exporter": "python",
   "pygments_lexer": "ipython3",
   "version": "3.6.2"
  }
 },
 "nbformat": 4,
 "nbformat_minor": 2
}
