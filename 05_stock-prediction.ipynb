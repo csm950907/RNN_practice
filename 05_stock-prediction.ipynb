{
 "cells": [
  {
   "cell_type": "code",
   "execution_count": 2,
   "metadata": {},
   "outputs": [],
   "source": [
    "import tensorflow as tf\n",
    "import numpy as np\n",
    "import matplotlib\n",
    "import os\n",
    "\n",
    "tf.set_random_seed(777)  # reproducibility\n",
    "\n",
    "if \"DISPLAY\" not in os.environ:\n",
    "    # remove Travis CI Error\n",
    "    matplotlib.use('Agg')\n",
    "\n",
    "import matplotlib.pyplot as plt\n",
    "%matplotlib inline  "
   ]
  },
  {
   "cell_type": "code",
   "execution_count": 3,
   "metadata": {},
   "outputs": [],
   "source": [
    "def MinMaxScaler(data):\n",
    "    ''' Min Max Normalization\n",
    "    Parameters\n",
    "    ----------\n",
    "    data : numpy.ndarray\n",
    "        input data to be normalized\n",
    "        shape: [Batch size, dimension]\n",
    "    Returns\n",
    "    ----------\n",
    "    data : numpy.ndarry\n",
    "        normalized data\n",
    "        shape: [Batch size, dimension]\n",
    "    References\n",
    "    ----------\n",
    "    .. [1] http://sebastianraschka.com/Articles/2014_about_feature_scaling.html\n",
    "    '''\n",
    "    numerator = data - np.min(data, 0)\n",
    "    denominator = np.max(data, 0) - np.min(data, 0)\n",
    "    # noise term prevents the zero division\n",
    "    return numerator / (denominator + 1e-7)"
   ]
  },
  {
   "cell_type": "code",
   "execution_count": 4,
   "metadata": {},
   "outputs": [],
   "source": [
    "# train Parameters\n",
    "seq_length = 7\n",
    "data_dim = 5\n",
    "hidden_dim = 10\n",
    "output_dim = 1\n",
    "learning_rate = 0.01\n",
    "iterations = 500"
   ]
  },
  {
   "cell_type": "code",
   "execution_count": 5,
   "metadata": {},
   "outputs": [
    {
     "name": "stdout",
     "output_type": "stream",
     "text": [
      "x_shape:  (732, 5)\n",
      "y_shape:  (732, 1)\n"
     ]
    }
   ],
   "source": [
    "# Open, High, Low, Volume, Close\n",
    "xy = np.loadtxt('data-02-stock_daily.csv', delimiter=',')\n",
    "xy = xy[::-1]  # reverse order (chronically ordered)\n",
    "xy = MinMaxScaler(xy)\n",
    "x = xy\n",
    "y = xy[:, [-1]]  # Close as label\n",
    "\n",
    "print(\"x_shape: \", np.shape(x))\n",
    "print(\"y_shape: \", np.shape(y))"
   ]
  },
  {
   "cell_type": "code",
   "execution_count": 8,
   "metadata": {},
   "outputs": [
    {
     "name": "stdout",
     "output_type": "stream",
     "text": [
      "x_shape:  (725, 7, 5)\n",
      "y_shape:  (725, 1)\n",
      "x_sample:  [[2.13751054e-01 2.08179810e-01 1.91791832e-01 4.66075110e-04\n",
      "  1.92092403e-01]\n",
      " [1.93935034e-01 2.03641926e-01 2.08664571e-01 2.98467330e-03\n",
      "  1.96551555e-01]\n",
      " [2.10516454e-01 2.05289413e-01 2.03558748e-01 2.59926504e-04\n",
      "  1.87749731e-01]\n",
      " [1.86678765e-01 2.09480567e-01 2.08781843e-01 0.00000000e+00\n",
      "  2.17448151e-01]\n",
      " [3.06973882e-01 3.14634137e-01 2.18993665e-01 1.24764722e-02\n",
      "  2.16981885e-01]\n",
      " [2.19142110e-01 2.63907214e-01 2.24686396e-01 4.56323384e-01\n",
      "  2.24967473e-01]\n",
      " [2.33129931e-01 2.36419163e-01 1.62682724e-01 5.70171193e-01\n",
      "  1.47442742e-01]]\n",
      "y_sample:  [0.13289962]\n"
     ]
    }
   ],
   "source": [
    "# build a dataset\n",
    "dataX = []\n",
    "dataY = []\n",
    "for i in range(0, len(y) - seq_length):\n",
    "    _x = x[i:i + seq_length]\n",
    "    _y = y[i + seq_length]  # Next close price\n",
    "    dataX.append(_x)\n",
    "    dataY.append(_y)\n",
    "    \n",
    "print(\"x_shape: \", np.shape(dataX))\n",
    "print(\"y_shape: \", np.shape(dataY))\n",
    "print(\"x_sample: \", dataX[0])\n",
    "print(\"y_sample: \", dataY[0])"
   ]
  },
  {
   "cell_type": "code",
   "execution_count": 9,
   "metadata": {},
   "outputs": [],
   "source": [
    "# train/test split\n",
    "train_size = int(len(dataY) * 0.7)\n",
    "test_size = len(dataY) - train_size\n",
    "trainX, testX = np.array(dataX[0:train_size]), np.array(\n",
    "    dataX[train_size:len(dataX)])\n",
    "trainY, testY = np.array(dataY[0:train_size]), np.array(\n",
    "    dataY[train_size:len(dataY)])"
   ]
  },
  {
   "cell_type": "code",
   "execution_count": 10,
   "metadata": {},
   "outputs": [],
   "source": [
    "# input place holders\n",
    "X = tf.placeholder(tf.float32, [None, seq_length, data_dim])\n",
    "Y = tf.placeholder(tf.float32, [None, 1])"
   ]
  },
  {
   "cell_type": "code",
   "execution_count": 11,
   "metadata": {},
   "outputs": [],
   "source": [
    "# build a LSTM network\n",
    "cell = tf.contrib.rnn.BasicLSTMCell(\n",
    "    num_units=hidden_dim, state_is_tuple=True, activation=tf.tanh)\n",
    "outputs, _states = tf.nn.dynamic_rnn(cell, X, dtype=tf.float32)\n",
    "Y_pred = tf.contrib.layers.fully_connected(\n",
    "    outputs[:, -1], output_dim, activation_fn=None)  # We use the last cell's output"
   ]
  },
  {
   "cell_type": "code",
   "execution_count": 12,
   "metadata": {},
   "outputs": [],
   "source": [
    "# cost/loss\n",
    "loss = tf.reduce_sum(tf.square(Y_pred - Y))  # sum of the squares\n",
    "# optimizer\n",
    "optimizer = tf.train.AdamOptimizer(learning_rate)\n",
    "train = optimizer.minimize(loss)\n",
    "\n",
    "# RMSE\n",
    "targets = tf.placeholder(tf.float32, [None, 1])\n",
    "predictions = tf.placeholder(tf.float32, [None, 1])\n",
    "rmse = tf.sqrt(tf.reduce_mean(tf.square(targets - predictions)))"
   ]
  },
  {
   "cell_type": "code",
   "execution_count": 14,
   "metadata": {},
   "outputs": [
    {
     "name": "stdout",
     "output_type": "stream",
     "text": [
      "[step: 0] loss: 138.5707550048828\n",
      "[step: 1] loss: 87.60054016113281\n",
      "[step: 2] loss: 49.7800407409668\n",
      "[step: 3] loss: 24.820274353027344\n",
      "[step: 4] loss: 12.329050064086914\n",
      "[step: 5] loss: 11.164783477783203\n",
      "[step: 6] loss: 17.216602325439453\n",
      "[step: 7] loss: 22.804126739501953\n",
      "[step: 8] loss: 23.583498001098633\n",
      "[step: 9] loss: 20.283628463745117\n",
      "[step: 10] loss: 15.239684104919434\n",
      "[step: 11] loss: 10.427783012390137\n",
      "[step: 12] loss: 6.9420390129089355\n",
      "[step: 13] loss: 5.07229471206665\n",
      "[step: 14] loss: 4.580634593963623\n",
      "[step: 15] loss: 4.985066890716553\n",
      "[step: 16] loss: 5.77078914642334\n",
      "[step: 17] loss: 6.516498565673828\n",
      "[step: 18] loss: 6.947329998016357\n",
      "[step: 19] loss: 6.936463832855225\n",
      "[step: 481] loss: 0.5824337005615234\n",
      "[step: 482] loss: 0.582004964351654\n",
      "[step: 483] loss: 0.5815779566764832\n",
      "[step: 484] loss: 0.5811524987220764\n",
      "[step: 485] loss: 0.5807284712791443\n",
      "[step: 486] loss: 0.580306351184845\n",
      "[step: 487] loss: 0.5798854231834412\n",
      "[step: 488] loss: 0.5794661045074463\n",
      "[step: 489] loss: 0.5790484547615051\n",
      "[step: 490] loss: 0.5786322951316833\n",
      "[step: 491] loss: 0.578217625617981\n",
      "[step: 492] loss: 0.577804446220398\n",
      "[step: 493] loss: 0.5773928165435791\n",
      "[step: 494] loss: 0.5769825577735901\n",
      "[step: 495] loss: 0.5765739679336548\n",
      "[step: 496] loss: 0.5761666893959045\n",
      "[step: 497] loss: 0.5757609605789185\n",
      "[step: 498] loss: 0.5753567218780518\n",
      "[step: 499] loss: 0.5749537944793701\n",
      "RMSE: 0.028772467747330666\n"
     ]
    }
   ],
   "source": [
    "with tf.Session() as sess:\n",
    "    init = tf.global_variables_initializer()\n",
    "    sess.run(init)\n",
    "\n",
    "    # Training step\n",
    "    for i in range(iterations):\n",
    "        _, step_loss = sess.run([train, loss], feed_dict={\n",
    "                                X: trainX, Y: trainY})\n",
    "        if(i < 20 or i > 480):\n",
    "            print(\"[step: {}] loss: {}\".format(i, step_loss))\n",
    "\n",
    "    # Test step\n",
    "    test_predict = sess.run(Y_pred, feed_dict={X: testX})\n",
    "    rmse_val = sess.run(rmse, feed_dict={\n",
    "                    targets: testY, predictions: test_predict})\n",
    "    print(\"RMSE: {}\".format(rmse_val))"
   ]
  },
  {
   "cell_type": "code",
   "execution_count": 15,
   "metadata": {},
   "outputs": [
    {
     "data": {
      "image/png": "[encoded data removed]",
      "text/plain": [
       "<matplotlib.figure.Figure at 0x1d408986d68>"
      ]
     },
     "metadata": {},
     "output_type": "display_data"
    }
   ],
   "source": [
    "    # Plot predictions\n",
    "    plt.plot(testY)\n",
    "    plt.plot(test_predict)\n",
    "    plt.xlabel(\"Time Period\")\n",
    "    plt.ylabel(\"Stock Price\")\n",
    "    plt.show()\n"
   ]
  },
  {
   "cell_type": "code",
   "execution_count": null,
   "metadata": {
    "collapsed": true
   },
   "outputs": [],
   "source": []
  }
 ],
 "metadata": {
  "kernelspec": {
   "display_name": "Python 3",
   "language": "python",
   "name": "python3"
  },
  "language_info": {
   "codemirror_mode": {
    "name": "ipython",
    "version": 3
   },
   "file_extension": ".py",
   "mimetype": "text/x-python",
   "name": "python",
   "nbconvert_exporter": "python",
   "pygments_lexer": "ipython3",
   "version": "3.6.4"
  }
 },
 "nbformat": 4,
 "nbformat_minor": 2
}
