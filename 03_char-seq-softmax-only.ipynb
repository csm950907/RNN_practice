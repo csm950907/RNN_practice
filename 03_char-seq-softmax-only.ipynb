{
 "cells": [
  {
   "cell_type": "code",
   "execution_count": 1,
   "metadata": {},
   "outputs": [],
   "source": [
    "import tensorflow as tf\n",
    "import numpy as np\n",
    "tf.set_random_seed(777)  # reproducibility\n"
   ]
  },
  {
   "cell_type": "code",
   "execution_count": 2,
   "metadata": {},
   "outputs": [
    {
     "name": "stdout",
     "output_type": "stream",
     "text": [
      "idxToChar:  ['i', 'o', ' ', 'a', 'f', 'w', 'y', 't', 'u', 'n']\n",
      "charToIdx:  {'i': 0, 'o': 1, ' ': 2, 'a': 3, 'f': 4, 'w': 5, 'y': 6, 't': 7, 'u': 8, 'n': 9}\n"
     ]
    }
   ],
   "source": [
    "sample = \" if you want you\"\n",
    "idx2char = list(set(sample))  # index -> char\n",
    "char2idx = {c: i for i, c in enumerate(idx2char)}  # char -> idex\n",
    "\n",
    "print(\"idxToChar: \", idx2char)\n",
    "print(\"charToIdx: \", char2idx)"
   ]
  },
  {
   "cell_type": "code",
   "execution_count": 3,
   "metadata": {},
   "outputs": [],
   "source": [
    "# hyper parameters\n",
    "dic_size = len(char2idx)  # RNN input size (one hot size)\n",
    "rnn_hidden_size = len(char2idx)  # RNN output size\n",
    "num_classes = len(char2idx)  # final output size (RNN or softmax, etc.)\n",
    "batch_size = 1  # one sample data, one batch\n",
    "sequence_length = len(sample) - 1  # number of lstm rollings (unit #)\n",
    "learning_rate = 0.1"
   ]
  },
  {
   "cell_type": "code",
   "execution_count": 4,
   "metadata": {},
   "outputs": [
    {
     "name": "stdout",
     "output_type": "stream",
     "text": [
      "X_data:  [[2, 0, 4, 2, 6, 1, 8, 2, 5, 3, 9, 7, 2, 6, 1]]\n",
      "Y_data:  [[0, 4, 2, 6, 1, 8, 2, 5, 3, 9, 7, 2, 6, 1, 8]]\n",
      "X_shape:  (1, 15)\n",
      "Y_shape:  (1, 15)\n"
     ]
    }
   ],
   "source": [
    "sample_idx = [char2idx[c] for c in sample]  # char to index\n",
    "x_data = [sample_idx[:-1]]  # X data sample (0 ~ n-1) hello: hell\n",
    "y_data = [sample_idx[1:]]   # Y label sample (1 ~ n) hello: ello\n",
    "print(\"X_data: \", x_data)\n",
    "print(\"Y_data: \", y_data)\n",
    "print(\"X_shape: \", np.shape(x_data))\n",
    "print(\"Y_shape: \", np.shape(y_data))"
   ]
  },
  {
   "cell_type": "code",
   "execution_count": 5,
   "metadata": {},
   "outputs": [
    {
     "name": "stdout",
     "output_type": "stream",
     "text": [
      "X:  Tensor(\"Placeholder:0\", shape=(?, 15), dtype=int32)\n",
      "Y:  Tensor(\"Placeholder_1:0\", shape=(?, 15), dtype=int32)\n"
     ]
    }
   ],
   "source": [
    "X = tf.placeholder(tf.int32, [None, sequence_length])  # X data\n",
    "Y = tf.placeholder(tf.int32, [None, sequence_length])  # Y label\n",
    "\n",
    "print(\"X: \", X)\n",
    "print(\"Y: \", Y)"
   ]
  },
  {
   "cell_type": "code",
   "execution_count": 6,
   "metadata": {},
   "outputs": [],
   "source": [
    "# flatten the data (ignore batches for now). No effect if the batch size is 1\n",
    "X_one_hot = tf.one_hot(X, num_classes)  # one hot: 1 -> 0 1 0 0 0 0 0 0 0 0\n",
    "X_for_softmax = tf.reshape(X_one_hot, [-1, rnn_hidden_size])\n",
    "\n",
    "# softmax layer (rnn_hidden_size -> num_classes)\n",
    "softmax_w = tf.get_variable(\"softmax_w\", [rnn_hidden_size, num_classes])\n",
    "softmax_b = tf.get_variable(\"softmax_b\", [num_classes])\n",
    "outputs = tf.matmul(X_for_softmax, softmax_w) + softmax_b"
   ]
  },
  {
   "cell_type": "code",
   "execution_count": 7,
   "metadata": {},
   "outputs": [],
   "source": [
    "# expend the data (revive the batches)\n",
    "outputs = tf.reshape(outputs, [batch_size, sequence_length, num_classes])\n",
    "weights = tf.ones([batch_size, sequence_length])\n",
    "\n",
    "# Compute sequence cost/loss\n",
    "sequence_loss = tf.contrib.seq2seq.sequence_loss(\n",
    "    logits=outputs, targets=Y, weights=weights)\n",
    "loss = tf.reduce_mean(sequence_loss)  # mean all sequence loss\n",
    "train = tf.train.AdamOptimizer(learning_rate=learning_rate).minimize(loss)\n",
    "\n",
    "prediction = tf.argmax(outputs, axis=2)"
   ]
  },
  {
   "cell_type": "code",
   "execution_count": 8,
   "metadata": {},
   "outputs": [
    {
     "name": "stdout",
     "output_type": "stream",
     "text": [
      "0 loss: 2.3208687 Prediction: aayaaytaontnaay\n",
      "1 loss: 2.10981 Prediction: yoyyoytyont yoy\n",
      "2 loss: 1.9163897 Prediction: yo yoy yont yoy\n",
      "3 loss: 1.738809 Prediction: yo you yant you\n",
      "4 loss: 1.5747924 Prediction: yo you yant you\n",
      "5 loss: 1.4242975 Prediction: yf you yant you\n",
      "6 loss: 1.2881373 Prediction: yf you yant you\n",
      "7 loss: 1.1666163 Prediction: yf you yant you\n",
      "8 loss: 1.0591308 Prediction: yf you yant you\n",
      "9 loss: 0.9643479 Prediction: yf you yant you\n",
      "10 loss: 0.880652 Prediction: yf you yant you\n",
      "11 loss: 0.80653286 Prediction: yf you yant you\n",
      "12 loss: 0.7407698 Prediction: yf you yant you\n",
      "13 loss: 0.68245125 Prediction: yf you yant you\n",
      "14 loss: 0.6308998 Prediction: yf you yant you\n",
      "15 loss: 0.58557206 Prediction: yf you yant you\n",
      "16 loss: 0.5459771 Prediction: yf you yant you\n",
      "17 loss: 0.511629 Prediction: yf you yant you\n",
      "18 loss: 0.48202607 Prediction: yf you yant you\n",
      "19 loss: 0.45665312 Prediction: yf you yant you\n",
      "2981 loss: 0.27732173 Prediction: yf you yant you\n",
      "2982 loss: 0.27732223 Prediction: yf you yant you\n",
      "2983 loss: 0.2773224 Prediction: yf you yant you\n",
      "2984 loss: 0.27732202 Prediction: yf you yant you\n",
      "2985 loss: 0.27732155 Prediction: yf you yant you\n",
      "2986 loss: 0.2773213 Prediction: yf you yant you\n",
      "2987 loss: 0.2773214 Prediction: yf you yant you\n",
      "2988 loss: 0.27732155 Prediction: yf you yant you\n",
      "2989 loss: 0.2773217 Prediction: yf you yant you\n",
      "2990 loss: 0.2773215 Prediction: yf you yant you\n",
      "2991 loss: 0.27732116 Prediction: yf you yant you\n",
      "2992 loss: 0.277321 Prediction: yf you yant you\n",
      "2993 loss: 0.27732098 Prediction: yf you yant you\n",
      "2994 loss: 0.27732107 Prediction: yf you yant you\n",
      "2995 loss: 0.27732113 Prediction: yf you yant you\n",
      "2996 loss: 0.2773211 Prediction: yf you yant you\n",
      "2997 loss: 0.27732092 Prediction: yf you yant you\n",
      "2998 loss: 0.2773208 Prediction: yf you yant you\n",
      "2999 loss: 0.2773207 Prediction: yf you yant you\n"
     ]
    }
   ],
   "source": [
    "with tf.Session() as sess:\n",
    "    sess.run(tf.global_variables_initializer())\n",
    "    for i in range(3000):\n",
    "        l, _ = sess.run([loss, train], feed_dict={X: x_data, Y: y_data})\n",
    "        result = sess.run(prediction, feed_dict={X: x_data})\n",
    "\n",
    "        # print char using dic\n",
    "        result_str = [idx2char[c] for c in np.squeeze(result)]\n",
    "        if(i < 20 or i > 2980):\n",
    "            print(i, \"loss:\", l, \"Prediction:\", ''.join(result_str))"
   ]
  },
  {
   "cell_type": "code",
   "execution_count": null,
   "metadata": {
    "collapsed": true
   },
   "outputs": [],
   "source": []
  }
 ],
 "metadata": {
  "kernelspec": {
   "display_name": "Python 3",
   "language": "python",
   "name": "python3"
  },
  "language_info": {
   "codemirror_mode": {
    "name": "ipython",
    "version": 3
   },
   "file_extension": ".py",
   "mimetype": "text/x-python",
   "name": "python",
   "nbconvert_exporter": "python",
   "pygments_lexer": "ipython3",
   "version": "3.6.4"
  }
 },
 "nbformat": 4,
 "nbformat_minor": 2
}
